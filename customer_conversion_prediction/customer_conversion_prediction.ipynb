{
  "nbformat": 4,
  "nbformat_minor": 0,
  "metadata": {
    "colab": {
      "provenance": [],
      "authorship_tag": "ABX9TyMpy0F50OxhYdPBTObB4GNd",
      "include_colab_link": true
    },
    "kernelspec": {
      "name": "python3",
      "display_name": "Python 3"
    },
    "language_info": {
      "name": "python"
    }
  },
  "cells": [
    {
      "cell_type": "markdown",
      "metadata": {
        "id": "view-in-github",
        "colab_type": "text"
      },
      "source": [
        "<a href=\"https://colab.research.google.com/github/mahshooq-karayil/data-science/blob/main/customer_conversion_prediction/customer_conversion_prediction.ipynb\" target=\"_parent\"><img src=\"https://colab.research.google.com/assets/colab-badge.svg\" alt=\"Open In Colab\"/></a>"
      ]
    },
    {
      "cell_type": "code",
      "execution_count": 1,
      "metadata": {
        "id": "8KjHnREI6JKm"
      },
      "outputs": [],
      "source": [
        "import pandas as pd\n",
        "import numpy as np\n",
        "import seaborn as sn\n",
        "import matplotlib.pyplot as plt # For plotting graphs\n",
        "%matplotlib inline\n",
        "import warnings # To ignore any warnings\n",
        "warnings.filterwarnings(\"ignore\")\n",
        ""
      ]
    },
    {
      "cell_type": "code",
      "source": [
        "!git clone https://github.com/mahshooq-karayil/data-science.git"
      ],
      "metadata": {
        "id": "kuUHT9xwaYFE"
      },
      "execution_count": null,
      "outputs": []
    },
    {
      "cell_type": "code",
      "source": [],
      "metadata": {
        "id": "rjcfcJUgdMjZ"
      },
      "execution_count": null,
      "outputs": []
    },
    {
      "cell_type": "markdown",
      "source": [],
      "metadata": {
        "id": "unrsE6rBXq6b"
      }
    }
  ]
}